{
 "cells": [
  {
   "cell_type": "code",
   "execution_count": 1,
   "metadata": {},
   "outputs": [],
   "source": [
    "class Node:\n",
    "    def __init__(self,d):\n",
    "        self.data = d\n",
    "        self.next = None"
   ]
  },
  {
   "cell_type": "code",
   "execution_count": 2,
   "metadata": {},
   "outputs": [],
   "source": [
    "class LinkedList:\n",
    "    def __init__(self):\n",
    "        self.head = None\n",
    "        \n",
    "    def addFirstNode(self,d):\n",
    "        n = Node(d)\n",
    "        if self.head == None:\n",
    "            self.head = n\n",
    "        else:\n",
    "            temp = self.head\n",
    "            self.head = n\n",
    "            self.head.next = temp\n",
    "    \n",
    "    def addLastNode(self,d):\n",
    "        n = Node(d)\n",
    "        if self.head == None:\n",
    "            self.head = n\n",
    "        else:\n",
    "            temp = self.head\n",
    "            lastNode = None\n",
    "            while(temp!=None):\n",
    "                lastNode = temp\n",
    "                temp = temp.next\n",
    "            lastNode.next = n\n",
    "            \n",
    "    def removelastNode(self):\n",
    "        if self.head.next == None:\n",
    "            self.head = None\n",
    "        else:\n",
    "            temp = self.head\n",
    "            secondlastNode = None\n",
    "            while(temp.next!=None):\n",
    "                secondlastNode = temp\n",
    "                temp = temp.next\n",
    "            secondlastNode.next = None\n",
    "    \n",
    "    def removeFirstNode(self):\n",
    "        if self.head.next == None:\n",
    "            self.head = None\n",
    "        else:\n",
    "            temp = self.head.next\n",
    "            self.head = temp\n",
    "            \n",
    "    def printLL(self):\n",
    "        temp = self.head\n",
    "        while temp != None:\n",
    "            print(temp.data,end='')\n",
    "            temp = temp.next\n",
    "            if temp != None:\n",
    "                print(' --> ',end='')\n",
    "            else:\n",
    "                print(' --> END')"
   ]
  },
  {
   "cell_type": "code",
   "execution_count": 3,
   "metadata": {},
   "outputs": [],
   "source": [
    "l = LinkedList()"
   ]
  },
  {
   "cell_type": "code",
   "execution_count": 4,
   "metadata": {},
   "outputs": [
    {
     "name": "stdout",
     "output_type": "stream",
     "text": [
      "3 --> 2 --> 4 --> END\n"
     ]
    }
   ],
   "source": [
    "l.addFirstNode(2)\n",
    "l.addFirstNode(3)\n",
    "l.addLastNode(4)\n",
    "l.printLL()"
   ]
  },
  {
   "cell_type": "code",
   "execution_count": 5,
   "metadata": {},
   "outputs": [
    {
     "name": "stdout",
     "output_type": "stream",
     "text": [
      "2 --> 4 --> END\n"
     ]
    }
   ],
   "source": [
    "l.removeFirstNode()\n",
    "l.printLL()"
   ]
  },
  {
   "cell_type": "code",
   "execution_count": 6,
   "metadata": {},
   "outputs": [
    {
     "name": "stdout",
     "output_type": "stream",
     "text": [
      "2 --> END\n"
     ]
    }
   ],
   "source": [
    "l.removelastNode()\n",
    "l.printLL()"
   ]
  },
  {
   "cell_type": "code",
   "execution_count": null,
   "metadata": {},
   "outputs": [],
   "source": []
  },
  {
   "cell_type": "code",
   "execution_count": null,
   "metadata": {},
   "outputs": [],
   "source": []
  }
 ],
 "metadata": {
  "kernelspec": {
   "display_name": "Python 3",
   "language": "python",
   "name": "python3"
  },
  "language_info": {
   "codemirror_mode": {
    "name": "ipython",
    "version": 3
   },
   "file_extension": ".py",
   "mimetype": "text/x-python",
   "name": "python",
   "nbconvert_exporter": "python",
   "pygments_lexer": "ipython3",
   "version": "3.8.2"
  }
 },
 "nbformat": 4,
 "nbformat_minor": 4
}
